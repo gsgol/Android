{
  "nbformat": 4,
  "nbformat_minor": 0,
  "metadata": {
    "colab": {
      "provenance": [],
      "authorship_tag": "ABX9TyMFEYtU5O9yKFbCXFu/u5wm",
      "include_colab_link": true
    },
    "kernelspec": {
      "name": "python3",
      "display_name": "Python 3"
    },
    "language_info": {
      "name": "python"
    }
  },
  "cells": [
    {
      "cell_type": "markdown",
      "metadata": {
        "id": "view-in-github",
        "colab_type": "text"
      },
      "source": [
        "<a href=\"https://colab.research.google.com/github/gsgol/Android_first_lab/blob/master/Visualisation.ipynb\" target=\"_parent\"><img src=\"https://colab.research.google.com/assets/colab-badge.svg\" alt=\"Open In Colab\"/></a>"
      ]
    },
    {
      "cell_type": "code",
      "execution_count": 56,
      "metadata": {
        "colab": {
          "base_uri": "https://localhost:8080/"
        },
        "id": "HdXYQPCfeX86",
        "outputId": "00837efa-0af0-44dd-9431-073fcc5a36e0"
      },
      "outputs": [
        {
          "output_type": "stream",
          "name": "stdout",
          "text": [
            "Requirement already satisfied: celluloid in /usr/local/lib/python3.10/dist-packages (0.2.0)\n",
            "Requirement already satisfied: matplotlib in /usr/local/lib/python3.10/dist-packages (from celluloid) (3.7.1)\n",
            "Requirement already satisfied: contourpy>=1.0.1 in /usr/local/lib/python3.10/dist-packages (from matplotlib->celluloid) (1.1.1)\n",
            "Requirement already satisfied: cycler>=0.10 in /usr/local/lib/python3.10/dist-packages (from matplotlib->celluloid) (0.12.1)\n",
            "Requirement already satisfied: fonttools>=4.22.0 in /usr/local/lib/python3.10/dist-packages (from matplotlib->celluloid) (4.43.1)\n",
            "Requirement already satisfied: kiwisolver>=1.0.1 in /usr/local/lib/python3.10/dist-packages (from matplotlib->celluloid) (1.4.5)\n",
            "Requirement already satisfied: numpy>=1.20 in /usr/local/lib/python3.10/dist-packages (from matplotlib->celluloid) (1.23.5)\n",
            "Requirement already satisfied: packaging>=20.0 in /usr/local/lib/python3.10/dist-packages (from matplotlib->celluloid) (23.2)\n",
            "Requirement already satisfied: pillow>=6.2.0 in /usr/local/lib/python3.10/dist-packages (from matplotlib->celluloid) (9.4.0)\n",
            "Requirement already satisfied: pyparsing>=2.3.1 in /usr/local/lib/python3.10/dist-packages (from matplotlib->celluloid) (3.1.1)\n",
            "Requirement already satisfied: python-dateutil>=2.7 in /usr/local/lib/python3.10/dist-packages (from matplotlib->celluloid) (2.8.2)\n",
            "Requirement already satisfied: six>=1.5 in /usr/local/lib/python3.10/dist-packages (from python-dateutil>=2.7->matplotlib->celluloid) (1.16.0)\n"
          ]
        }
      ],
      "source": [
        "!pip install celluloid"
      ]
    },
    {
      "cell_type": "code",
      "source": [
        "from celluloid import Camera as Camera\n",
        "import matplotlib.pyplot as plt\n",
        "import pandas as pd\n",
        "from random import randint\n",
        "import re"
      ],
      "metadata": {
        "id": "qdC5C23TecnL"
      },
      "execution_count": 75,
      "outputs": []
    },
    {
      "cell_type": "code",
      "source": [
        "print(\"Введите путь до исходного файла:\")\n",
        "input_dir = input()\n",
        "data = pd.read_csv(input_dir)\n",
        "start = input_dir.rfind('/')\n",
        "end = input_dir.find('.')\n",
        "filename = input_dir[start + 1:end]\n",
        "num = int(re.findall(r'\\d+',filename)[0])"
      ],
      "metadata": {
        "id": "YOaCUBZ2egih",
        "outputId": "ec27d820-edf8-43f7-d052-e5ccf613492d",
        "colab": {
          "base_uri": "https://localhost:8080/"
        }
      },
      "execution_count": 78,
      "outputs": [
        {
          "name": "stdout",
          "output_type": "stream",
          "text": [
            "Введите путь до исходного файла:\n",
            "/content/output4.csv\n"
          ]
        }
      ]
    },
    {
      "cell_type": "code",
      "source": [
        "color = []\n",
        "for i in range(num):\n",
        "    color.append('#%06X' % randint(0, 0xFFFFFF))"
      ],
      "metadata": {
        "id": "IZYwrouSTLKC"
      },
      "execution_count": 79,
      "outputs": []
    },
    {
      "cell_type": "code",
      "source": [
        "masses = data['mass'][:num]"
      ],
      "metadata": {
        "id": "05zp3RrCTSZw"
      },
      "execution_count": 80,
      "outputs": []
    },
    {
      "cell_type": "code",
      "source": [
        "fig = plt.figure()\n",
        "camera = Camera(fig)"
      ],
      "metadata": {
        "id": "sGrYHU4EeuyD",
        "colab": {
          "base_uri": "https://localhost:8080/",
          "height": 34
        },
        "outputId": "1a6aabcb-bb35-4b1d-ff34-5022387d3b6a"
      },
      "execution_count": 81,
      "outputs": [
        {
          "output_type": "display_data",
          "data": {
            "text/plain": [
              "<Figure size 640x480 with 0 Axes>"
            ]
          },
          "metadata": {}
        }
      ]
    },
    {
      "cell_type": "code",
      "source": [
        "fig.set_size_inches(5, 5)\n",
        "ax1 = fig.add_subplot()\n",
        "ax1.set_title(\"Dot Simulation\")\n",
        "ax1.grid(1)"
      ],
      "metadata": {
        "id": "ZCwApilUe8UB"
      },
      "execution_count": 82,
      "outputs": []
    },
    {
      "cell_type": "code",
      "source": [
        "for i in range(0, len(data['x']), num):\n",
        "  ax1.scatter(x = data['x'][i:i+num], y = data['y'][i:i+num], s = masses, c = color)\n",
        "  camera.snap()"
      ],
      "metadata": {
        "id": "lARNYJoSfnRA"
      },
      "execution_count": 83,
      "outputs": []
    },
    {
      "cell_type": "code",
      "source": [
        "animation = camera.animate()\n",
        "animation.save(\"/content/test1.mp4\")"
      ],
      "metadata": {
        "id": "9EoFGY_0fvJg"
      },
      "execution_count": 84,
      "outputs": []
    },
    {
      "cell_type": "code",
      "source": [],
      "metadata": {
        "id": "qthbC-6OyBCV"
      },
      "execution_count": null,
      "outputs": []
    }
  ]
}